[![Binder](https://mybinder.org/badge_logo.svg)](https://mybinder.org/v2/gh/KingaS03/Mathematics-for-Machine-Learning-and-Data-Science/master)

[![Open In Colab](https://colab.research.google.com/assets/colab-badge.svg)](https://colab.research.google.com/github/KingaS03/Mathematics-for-Machine-Learning-and-Data-Science)

{
 "cells": [
  {
   "cell_type": "markdown",
   "metadata": {},
   "source": [
    "# 1. Introduction to the Mathematics Module for ML and DS"
   ]
  },
  {
   "cell_type": "markdown",
   "metadata": {},
   "source": [
    "We are going to consider a common machine learning context, as this is illustrating all the major components of our course.\n",
    "\n",
    "## 1.1. Machine learning versus classical programming\n",
    "First let's take a look at machine learning and compare it with classical programming.\n",
    "\n",
    "------------------------------------\n",
    "*Machine Learning is the \"field of study that gives computers the ability to learn without being explicitly programmed.\"* - Arthur Samuel, 1959\n",
    "\n",
    "-------------------------------------\n",
    "\n",
    "<center>\n",
    "<img src=\"Images/TraditionalProgr.png\" width=\"300\"> \n",
    "</center>\n",
    "\n",
    "versus\n",
    "\n",
    "<center>\n",
    "<img src=\"Images/MachineLearning0.png\" width=\"300\"> \n",
    "</center>\n",
    "\n",
    "In case of some machine learning problems the resulting rules can be conceived as a model, which for any input data is able to predict the associated output. \n",
    "\n",
    "<center>\n",
    "<img src=\"Images/MachineLearning1.png\" width=\"300\"> \n",
    "</center>\n",
    "\n",
    "Mathematically we can think of this model as a function that assigns to an input value a predicted output value and at the same time it depends also on some model parameters (weights and intercept). The model parameters are determined in such a way to minimise the loss function. This phenomenon is concisely described in the following quote:\n",
    "\n",
    "-----------\n",
    "*\"A computer program is said to learn from experience E with respect to some task T and some performance measure P, if its performance on T, as measured by P, improves with experience E.\"* - Tom Mitchell, 1997\n",
    "\n",
    "---------------\n",
    "\n",
    "## 1.2. Simple machine learning setting - Linear regression\n",
    "One of the simplest settings of a machine learning algorithm is the linear regression. To get a quick intuition about how it works play with the below interactive graph. You can change the position of the blue datapoints by dragging them with the mouse. You can change the position of the red line by moving the two red points of it.\n",
    "\n",
    "What happens on the plot on the right hand side if you change the position of one of the red points? How can you explain the observed behaviou?\n",
    "\n",
    "Take a look at the blue end red values in the upper right corner. How do these values change?\n",
    "\n",
    "What is the starting point of a regression analysis and what is its objective?"
   ]
  },
  {
   "cell_type": "code",
   "execution_count": 22,
   "metadata": {},
   "outputs": [
    {
     "data": {
      "text/html": [
       "\n",
       "        <iframe\n",
       "            width=\"1400\"\n",
       "            height=\"600\"\n",
       "            src=\"https://www.geogebra.org/classic/gvtvpem2\"\n",
       "            frameborder=\"0\"\n",
       "            allowfullscreen\n",
       "        ></iframe>\n",
       "        "
      ],
      "text/plain": [
       "<IPython.lib.display.IFrame at 0x102df97f0>"
      ]
     },
     "execution_count": 22,
     "metadata": {},
     "output_type": "execute_result"
    }
   ],
   "source": [
    "from IPython.display import IFrame\n",
    "\n",
    "#IFrame(\"https://www.geogebra.org/m/xC6zq7Zv\",800,800)\n",
    "IFrame(\"https://www.geogebra.org/classic/gvtvpem2\", 1400, 600)"
   ]
  },
  {
   "cell_type": "markdown",
   "metadata": {},
   "source": [
    "Let's take a look at a concrete numerical example:\n",
    "\n",
    "We would like to predict the price of apartments as a linear function of their surface.\n",
    "\n",
    "We consider the following data points:\n",
    "    \n",
    "| Surface area in $m^2$ | Price in tausends of CHF | \n",
    "| --------------- | --------------- |\n",
    "| 40| 275| \n",
    "| 70 | 500 | \n",
    "| 80 | 470 | \n",
    "| 100 | 650 | \n",
    "| 115 | 690 | \n",
    "| 120 | 750 | \n",
    "\n",
    "The surface area, denoted by $x$, is the single **explanatory/dependent variable**. \n",
    "\n",
    "The price, denoted by $y$, is the single **independent variable**.\n",
    "\n",
    "The apartments, whose prices are enlisted in the above table are called **observations** and we will refer to their **features** (surface and price) as $x_i$, respectively $y_i$, where $i$ is the index of the apartment ($i = \\overline{0,5}$).\n",
    "\n",
    "We would like to approximate our data points by a line defined by the equation\n",
    "$$ y = w\\cdot x + b,$$\n",
    "where $w$ is called **weight/gradient** and $b$ is called **intercept**. These parameters $w$ and $b$ are determined in such a way that the mean squared error of the approximations is minimal.\n",
    "\n",
    "For our set of apartments the **$MSE$ (mean squared error)** can be calculated as follows:\n",
    "$$\\begin{align*}\n",
    "MSE &= \\frac{1}{6}\\sum_{i=0}^5 \\left(y_i - (w \\cdot x_i + b)\\right)^2\\\\\n",
    "& = \\left(275-(w\\cdot 40 + b)\\right)^2 + \\left(500-(w\\cdot 70 + b)\\right)^2 + \\left(470-(w\\cdot 80 + b)\\right)^2 + \\left(650-(w\\cdot 100 + b)\\right)^2 + \\left(690-(w\\cdot 115 + b)\\right)^2 + \\left(750-(w\\cdot 120 + b)\\right)^2\n",
    "\\end{align*}$$\n",
    "\n",
    "$MSE$ is a function of the parameters $b$ and $w$.\n",
    "\n",
    "The goal is to determine the parameters $b$ and $w$ in such a way to obtain the minimal $MSE$.\n",
    "\n",
    "Experiment with the following code. Fit the red line to the data points by trying out different values for the parameters $w$ and $b$."
   ]
  },
  {
   "cell_type": "code",
   "execution_count": 47,
   "metadata": {},
   "outputs": [
    {
     "data": {
      "text/plain": [
       "Text(0,0.5,'Price (tausend CHF)')"
      ]
     },
     "execution_count": 47,
     "metadata": {},
     "output_type": "execute_result"
    },
    {
     "data": {
      "image/png": "[encoded data removed]",
      "text/plain": [
       "<Figure size 432x288 with 1 Axes>"
      ]
     },
     "metadata": {},
     "output_type": "display_data"
    }
   ],
   "source": [
    "import matplotlib.pyplot as plt\n",
    "import seaborn as sns\n",
    "import numpy as np\n",
    "\n",
    "# 300 random samples\n",
    "x = np.array([40, 70, 80, 100, 115, 120])\n",
    "y = np.array([275, 500, 470, 650, 690, 750])\n",
    "\n",
    "plt.plot(x, y, 'o') #scatter plot of data points\n",
    "\n",
    "w = 5 # change this value\n",
    "b = 0 # change this value\n",
    "\n",
    "plt.plot(x, b + w*x) #add line of best fit\n",
    "\n",
    "MSE = np.mean((y-(b + w*x))**2)\n",
    "\n",
    "# legend, title, and labels.\n",
    "plt.text(40,700, f\"MSE ={MSE:.2f}\")\n",
    "plt.title('Surface area and price of apartments', size=18)\n",
    "plt.xlabel('Surface (m^2)', size=18)\n",
    "plt.ylabel('Price (tausend CHF)', size=18)"
   ]
  },
  {
   "cell_type": "markdown",
   "metadata": {},
   "source": [
    "Compare your values with the optimal ones, by running the code<br> \n",
    "`w, b = np.polyfit(x, y, 1)`."
   ]
  },
  {
   "cell_type": "markdown",
   "metadata": {},
   "source": [
    "Due to the simplicity of the linear model, it is possible to derive the explicit formulas for the parameters by calculating the partial derivatives of the $MSE$ w.r.t. the parameters and setting the values of these to $0$. Without detailed explanation \n",
    "$$\\frac{\\partial MSE}{\\partial w} = 0, \\quad \\frac{\\partial MSE}{\\partial b} = 0$$\n",
    "one can conclude:\n",
    "$$\\left\\{\\begin{align*}\n",
    "w &= \\frac{\\sum\\limits_i (x_i - \\overline{x})\\cdot (y_i-\\overline{y})}{\\sum\\limits_i(x_i - \\overline{x})^2} = 5.70\\\\\n",
    "b &= \\overline{y}-w\\cdot \\overline{x} = 57.30\n",
    "\\end{align*}\\right.\n",
    "$$\n",
    "where $\\overline{x} = \\frac{\\sum_i x_i}{n}$ and $\\overline{y} = \\frac{\\sum_i y_i}{n}$\n"
   ]
  },
  {
   "cell_type": "markdown",
   "metadata": {},
   "source": [
    "## 1.3. Neuronal networks\n",
    "The above univariate linear regression model can be presented as\n",
    "\n",
    "<center>\n",
    "<img src=\"Images/Network0.png\" width=\"300\"> \n",
    "</center>\n",
    "\n",
    "For the future notation we leave away the virtual input of 1.\n",
    "\n",
    "Now we make the model more complex until we get to the a two-layer neuronal network. First we apply an activation function $g$ to the linear transformation $b+w \\cdot x$.\n",
    "\n",
    "<center>\n",
    "<img src=\"Images/Network1.png\" width=\"320\"> \n",
    "</center>\n",
    "\n",
    "The above red ball corresponds to the smallest building unit of a neuronal network, namely a neuron. In a neuron:\n",
    "- there happens a linear transformation\n",
    "- to which an activation function is applied and this provides the output of the neuron.\n",
    "\n",
    "Next we allow for more inputs. \n",
    "<center>\n",
    "<img src=\"Images/MultiNetwork00.png\" width=\"320\"> \n",
    "</center>\n",
    "\n",
    "Finally we allow also for more outputs and we have two hidden layers. \n",
    "<center>\n",
    "<img src=\"Images/MultiNetwork2.png\" width=\"500\"> \n",
    "</center>\n",
    "\n",
    "The number of hidden layers indicates that the last neuronal network is a two-layer neuronal network.\n"
   ]
  },
  {
   "cell_type": "markdown",
   "metadata": {},
   "source": [
    "## 1.4. Motivation\n",
    "\n",
    "Exactly as in the case of linear regression the weight matrices $W^{(1)}$, $W^{(2)}$, respectively the intercepts $b^{(1)}$ and $b^{2}$ will be parameters of the loss function which is subject to minimisation. In the general case there is no immediate straightforward formula for the optimal parameters. \n",
    "<center>\n",
    "The minimum of the loss function can be approximated by the **gradient descent** method. \n",
    "    $$\\hspace{-2cm}\\Uparrow$$\n",
    "For the gradient descent method we should be able to derive the **partial derivatives** of the outputs w.r.t. all parameters of the model.\n",
    "    $$\\hspace{-2cm}\\Uparrow$$\n",
    "For neuronal networks with more hidden layers and differentiable activation functions these partial derivatives can be deremined by the **chain rule**.\n",
    "$$\\hspace{-2cm}\\Uparrow$$\n",
    "To apply the chain rule for a setting like in the last network, one needs to perform **matrix multiplications**.\n",
    "</center>\n",
    "\n",
    "The number of machine learning algorithms is large. That's why generally a huge amount of input data is needed to determine the model parameters. Alternatively, if we don't possess that much data, we can reduce the dimensionality of the input data (and by that we end up also with a smaller number of model parameters). For dimensionality reduction we can use the **PCA (principal component analysis)**, which is the same as singular value decomposition. The first name is used more in the circle of statisticians and the second name is more popular among theoretical mathematicians. To derive PCA, we need the notion of **orthogonal projection**, **eigenvalues and eigenvectors**, **the method of Lagrange multipliers** and some **descriptive statistics**.\n",
    "\n",
    "Furthermore, when the output of a neuronal network is a distribution, **probability theory** will be needed also to measure the distance between the observed distribution and the predicted one."
   ]
  },
  {
   "cell_type": "markdown",
   "metadata": {},
   "source": [
    "## 1.5. Schedule\n",
    "1. day - linear algebra\n",
    " - vector operations\n",
    "     - vector addition, \n",
    "     - vector substraction, \n",
    "     - multiplication of a vector by a scalar\n",
    "     - the dot product\n",
    " - matrix operations\n",
    "     - matrix addition\n",
    "     - matrix substraction\n",
    "     - multiplication of a matrix by a scalar\n",
    "     - matrix multiplication\n",
    "     - inverse of a square matrix\n",
    " - projection ad the dot product\n",
    " - orthogonal matrices\n",
    " - change of basis\n",
    " - eigenvalues and eigenvectors of matrices\n",
    "2. day - calculus\n",
    "3. day - PCA\n",
    "4. day - probability theory and statistics"
   ]
  },
  {
   "cell_type": "markdown",
   "metadata": {},
   "source": [
    "# 2. Linear algebra"
   ]
  },
  {
   "cell_type": "markdown",
   "metadata": {},
   "source": [
    "## 2.1. Motivation\n",
    "We are able to solve equations of the form:\n",
    "$ax + b = c$, where $a,b,c$ are real coefficients and $x$ is the unknown variable.\n",
    "\n",
    "For example we can follow the next steps to solve the  $5x + 3 = 13$ equation\n",
    "\n",
    "$$\\begin{align*}\n",
    "5x + 3 &= 13 \\quad | -3\\\\\n",
    "5x &= 10 \\quad | : 5\\\\\n",
    "x &= 2\\\\\n",
    "\\end{align*}$$\n",
    "\n",
    "or equivalently\n",
    "\n",
    "$$\\begin{align*}\n",
    "5x + 3 &= 13 \\quad | +(-3)\\\\\n",
    "5x &= 10 \\quad | \\cdot 5^{-1}\\\\\n",
    "x &= 2\\\\\n",
    "\\end{align*}$$\n",
    "\n",
    "Let us consider the following set-up. You have beakfast together with some of your colleagues and you are paying by turn. You don't know the price of each ordered item, but you remember what was ordered on the previous three days and how much did your colleagues pay for it each time: \n",
    "- 3 days ago your group has ordered 5 croissants, 4 coffees and 3 juices and they have payed 32.3 CHF.\n",
    "- 2 days ago your group has ordered 4 croissant, 5 coffees and 3 juices and they payed 32.5 CHF.\n",
    "- 1 day ago the group has ordered 6 croissants, 5 coffees and 2 juices and that costed 31 CHF.\n",
    "\n",
    "Today the group has ordered 7 croissants, 4 coffees and 2 juices and you would like to know whether the amount of 35 CHF available on your uni card will cover the consumption or you need to recharge it before paying.\n",
    "\n",
    "By introducing the notations\n",
    "- $x_1$ for the price of a croissant,\n",
    "- $x_2$ for the price of a coffee,\n",
    "- $x_3$ for the price of a juice,\n",
    "then our information about the consumption of the previous 3 days can be summarised in the form of the following 3 linear equations <br><br>\n",
    "$$\\left\\{\\begin{align}\n",
    "&5\\cdot x_1 + 4 \\cdot x_2 + 3 \\cdot x_3 = 32.3 \\\\\n",
    "&4\\cdot x_1 + 5 \\cdot x_2 + 3 \\cdot x_3 = 32.5 \\\\\n",
    "&6\\cdot x_1 + 5 \\cdot x_2 + 2 \\cdot x_3 = 31\n",
    "\\end{align}\\right.$$\n",
    "<br>\n",
    "The quantity ordered on the current day is $7\\cdot x_1 + 4 \\cdot x_2 + 2 \\cdot x_3$. To determine this one possibility is to calculate the price of each product separately, i.e. we solve the linear equation system first and then susbstitute the prices in the previous formula.\n",
    "\n",
    "The above system in matrix form\n",
    "<br><br>\n",
    "$$\n",
    "\\left(\\begin{array}{ccc}\n",
    "5 & 4 & 3\\\\\n",
    "4 & 5 & 3\\\\\n",
    "6 & 5 & 2\n",
    "\\end{array}\n",
    "\\right)\\cdot \\left(\\begin{array}{c}\n",
    "x_1\\\\\n",
    "x_2\\\\\n",
    "x_3 \n",
    "\\end{array}\n",
    "\\right) = \n",
    "\\left(\\begin{array}{c}\n",
    "32.3\\\\\n",
    "32.5\\\\\n",
    "31 \n",
    "\\end{array}\n",
    "\\right)$$\n",
    "<br>\n",
    "If we introduce for the matrix, respectively the two vectors in the above formula the notations $A, x, b$, then we get <br><br>\n",
    "$$A \\cdot x = b$$\n",
    "<br>\n",
    "One can observe that formally this looks the same as the middle state of our introductory linear equation with real coefficients $5x = 10$. So our goal is to perform a similar operation as there, namely we are looking for teh operation that would make $A$ dissappear from the left hand side of the equation. We will see later that this operation will be the inverse operation of multiplication by a matrix, namely multiplication by the inverse of a matrix.\n",
    "\n",
    "In our applications we will encounter for example when deriving the weights of the multivariate linear regression, a matrix equation of the form:\n",
    "$A \\cdot x + b = 0$. This example motivates the introduction of vector substraction, as well.\n"
   ]
  },
  {
   "cell_type": "markdown",
   "metadata": {},
   "source": [
    "## 2.2. Vectors\n",
    "\n",
    "Vectors are elements of a linear vector space.\n",
    "The vector space we are going to work with is $\\mathbb{R}^n$, where $n$ is the dimension of the space and it can be $1, 2, 3, 4, ...$. An element of such a vector space can be described by an ordered list of $n$ components of the vector."
   ]
  },
  {
   "cell_type": "markdown",
   "metadata": {},
   "source": [
    "### 2.2.1. Geometrical representation of vectors"
   ]
  },
  {
   "cell_type": "markdown",
   "metadata": {},
   "source": [
    "Below a 2-dimensional vector is represented. You can move its endpoints on the grid and you will see how do its components change."
   ]
  },
  {
   "cell_type": "code",
   "execution_count": 14,
   "metadata": {},
   "outputs": [
    {
     "data": {
      "text/html": [
       "\n",
       "        <iframe\n",
       "            width=\"800\"\n",
       "            height=\"600\"\n",
       "            src=\"https://www.geogebra.org/classic/cnvxpycc\"\n",
       "            frameborder=\"0\"\n",
       "            allowfullscreen\n",
       "        ></iframe>\n",
       "        "
      ],
      "text/plain": [
       "<IPython.lib.display.IFrame at 0x1124449b0>"
      ]
     },
     "execution_count": 14,
     "metadata": {},
     "output_type": "execute_result"
    }
   ],
   "source": [
    "IFrame(\"https://www.geogebra.org/classic/cnvxpycc\", 800, 600)"
   ]
  },
  {
   "cell_type": "markdown",
   "metadata": {},
   "source": [
    "Experiment with the 3-dimensional vector in the interactive window below."
   ]
  },
  {
   "cell_type": "code",
   "execution_count": 18,
   "metadata": {},
   "outputs": [
    {
     "data": {
      "text/html": [
       "\n",
       "        <iframe\n",
       "            width=\"800\"\n",
       "            height=\"600\"\n",
       "            src=\"https://www.geogebra.org/classic/meg4scuj\"\n",
       "            frameborder=\"0\"\n",
       "            allowfullscreen\n",
       "        ></iframe>\n",
       "        "
      ],
      "text/plain": [
       "<IPython.lib.display.IFrame at 0x1124bd438>"
      ]
     },
     "execution_count": 18,
     "metadata": {},
     "output_type": "execute_result"
    }
   ],
   "source": [
    "IFrame(\"https://www.geogebra.org/classic/meg4scuj\", 800, 600)"
   ]
  },
  {
   "cell_type": "markdown",
   "metadata": {},
   "source": [
    "The following interactive window explains when are two vectors equal."
   ]
  },
  {
   "cell_type": "code",
   "execution_count": 23,
   "metadata": {},
   "outputs": [
    {
     "data": {
      "text/html": [
       "\n",
       "        <iframe\n",
       "            width=\"800\"\n",
       "            height=\"600\"\n",
       "            src=\"https://www.geogebra.org/classic/fkkbkvuj\"\n",
       "            frameborder=\"0\"\n",
       "            allowfullscreen\n",
       "        ></iframe>\n",
       "        "
      ],
      "text/plain": [
       "<IPython.lib.display.IFrame at 0x1124bd278>"
      ]
     },
     "execution_count": 23,
     "metadata": {},
     "output_type": "execute_result"
    }
   ],
   "source": [
    "IFrame(\"https://www.geogebra.org/classic/fkkbkvuj\", 800, 600)"
   ]
  },
  {
   "cell_type": "markdown",
   "metadata": {},
   "source": [
    "### 2.2.2. Vector addition and substraction"
   ]
  },
  {
   "cell_type": "code",
   "execution_count": 25,
   "metadata": {},
   "outputs": [
    {
     "data": {
      "text/html": [
       "\n",
       "        <iframe\n",
       "            width=\"800\"\n",
       "            height=\"600\"\n",
       "            src=\"https://www.geogebra.org/classic/jnchvrhg\"\n",
       "            frameborder=\"0\"\n",
       "            allowfullscreen\n",
       "        ></iframe>\n",
       "        "
      ],
      "text/plain": [
       "<IPython.lib.display.IFrame at 0x1124bdb70>"
      ]
     },
     "execution_count": 25,
     "metadata": {},
     "output_type": "execute_result"
    }
   ],
   "source": [
    "IFrame(\"https://www.geogebra.org/classic/jnchvrhg\", 800, 600)"
   ]
  },
  {
   "cell_type": "markdown",
   "metadata": {},
   "source": [
    "Below you can see another approach to vector addition."
   ]
  },
  {
   "cell_type": "code",
   "execution_count": 27,
   "metadata": {},
   "outputs": [
    {
     "data": {
      "text/html": [
       "\n",
       "        <iframe\n",
       "            width=\"1200\"\n",
       "            height=\"600\"\n",
       "            src=\"https://www.geogebra.org/classic/mzgchv22\"\n",
       "            frameborder=\"0\"\n",
       "            allowfullscreen\n",
       "        ></iframe>\n",
       "        "
      ],
      "text/plain": [
       "<IPython.lib.display.IFrame at 0x1124bdc50>"
      ]
     },
     "execution_count": 27,
     "metadata": {},
     "output_type": "execute_result"
    }
   ],
   "source": [
    "IFrame(\"https://www.geogebra.org/classic/mzgchv22\", 1200, 600)"
   ]
  },
  {
   "cell_type": "markdown",
   "metadata": {},
   "source": [
    "### 2.2.3. Multiplication of vectors by a scalar\n",
    "This happens also component-wise exactly as addition, namely\n",
    "$$\\lambda  (x_1, x_2, \\ldots, x_n) = (\\lambda x_1, \\lambda x_2, \\ldots, \\lambda x_n).$$\n",
    "This operation is illustrated below"
   ]
  },
  {
   "cell_type": "code",
   "execution_count": 39,
   "metadata": {},
   "outputs": [
    {
     "data": {
      "text/html": [
       "\n",
       "        <iframe\n",
       "            width=\"800\"\n",
       "            height=\"800\"\n",
       "            src=\"https://www.geogebra.org/classic/gxhsev8k\"\n",
       "            frameborder=\"0\"\n",
       "            allowfullscreen\n",
       "        ></iframe>\n",
       "        "
      ],
      "text/plain": [
       "<IPython.lib.display.IFrame at 0x1124cb320>"
      ]
     },
     "execution_count": 39,
     "metadata": {},
     "output_type": "execute_result"
    }
   ],
   "source": [
    "IFrame(\"https://www.geogebra.org/classic/gxhsev8k\", 800, 800)"
   ]
  },
  {
   "cell_type": "markdown",
   "metadata": {},
   "source": [
    "### 2.2.4. Abstract linear algebra terminology\n",
    "\n",
    "1. For any two elements $x,y \\in \\mathbb{R}^n$ it holds that\n",
    "$$x+y \\in \\mathbb{R}^n.$$\n",
    "This property is called **closedness** of $\\mathbb{R}^n$ w.r.t. addition.\n",
    "\n",
    "2. Observe the **commutativity** of the addition on $\\mathbb{R}^n$ is inherited by the vectors in $\\mathbb{R}^n$, i.e. $$x + y = y + x$$ for any $x, y \\in \\mathbb{R}^n$.\n",
    "\n",
    "3. Observe that addition is also **associative** on $\\mathbb{R}^n$, i.e.\n",
    "$$x + (y + z) = (x + y) + z, \\quad \\mbox{ for any } x,y,z \\in \\mathbb{R}^n$$\n",
    "\n",
    "4. If we add the null vector $\\mathbf{0} = (0, 0, ..., 0) \\in \\mathbb{R}^n$ to any other vector $x \\in \\mathbb{R}^n$ it holds that\n",
    "$$\\mathbf{0} + x = x + \\mathbf{0} = x.$$\n",
    "The single element with the above property is called the **neutral element** w.r.t. addition.\n",
    "\n",
    "5. For a vector $x = (x_1, x_2, \\ldots, x_n)$ the vector $x^*$ for which\n",
    "$$x + x^* = x^* + x = \\mathbf{0}$$\n",
    "is called the **inverse vector** of $x$ w.r.t. addition.\n",
    "\n",
    "What is the inverse of the vector $x = (2, 3, -1)$?\n",
    "\n",
    "What is the inverse of a vector $x = (x_1, x_2, \\ldots, x_n)$?\n",
    "\n",
    "As every vector of $\\mathbb{R}^n$ possesses an inverse, we introduce the notation $-x$ for its inverse  w.r.t addition.\n",
    "\n",
    "A set $V$ with an operation $\\circ$ that satsifies the above properties is called a **commutative or Abelian group** in linear algebra. For us $V = \\mathbb{R}^n$ and $\\circ = +$.\n",
    "\n",
    "The scalar mutiplication, that we have introduced, has the following properties\n",
    "6. **associativity** of multiplication: $(\\lambda_1\\lambda_2) x = \\lambda_1 (\\lambda_2x)$, \n",
    "7. **distributivity**: $(\\lambda_1 + \\lambda_2) x = \\lambda_1  x + \\lambda_2  x$ and $\\lambda(x+y) = \\lambda x + \\lambda y$,\n",
    "8. **unitarity**: $1 x = x$,\n",
    "for all $x,y \\in \\mathbb{R}^n$ and $\\lambda, \\lambda_1, \\lambda_2$ scalars.\n",
    "\n",
    "Our scalars are elements of $\\mathbb{R}$. This set is a **field**, i.e. the operations $\\lambda_1+\\lambda_2$, $\\lambda_1-\\lambda_2$, $\\lambda_1\\cdot\\lambda_2$ make sense for any $\\lambda_1, \\lambda_2 \\in \\mathbb{R}$ and the $\\lambda_1/\\lambda_2 = \\lambda_1 \\cdot \\lambda_2^{-1}$ can be performed also when $\\lambda_2 \\neq 0$.\n",
    "\n",
    "A **vector space** consists of a set $V$ and a field $F$ and two operations:\n",
    "- an operation called vector  addition that takes two vectors $v,w \\in V$, and produces a third vector, written $v+w \\in V$,\n",
    "- an operation called scalar multiplication that takes a scalar $\\lambda \\in F$ and a vector $v\\in V$, and produces a new vector, written $cv \\in V$,\n",
    "which satisfy all the properties enlisted above (5+3)."
   ]
  },
  {
   "cell_type": "markdown",
   "metadata": {},
   "source": [
    "## 2.2.5. Modulus of a vector, length of a vector, size of a vector\n",
    "\n",
    "The length of a vector or norm of a vector $x = (x_1, x_2, \\cdots, x_n)$ is given by the formula\n",
    "$$||x|| = ..........$$\n",
    "\n",
    "Experiment with the interactive window below and derive the missing formula."
   ]
  },
  {
   "cell_type": "code",
   "execution_count": 41,
   "metadata": {},
   "outputs": [
    {
     "data": {
      "text/html": [
       "\n",
       "        <iframe\n",
       "            width=\"800\"\n",
       "            height=\"600\"\n",
       "            src=\"https://www.geogebra.org/classic/mfzdes3n\"\n",
       "            frameborder=\"0\"\n",
       "            allowfullscreen\n",
       "        ></iframe>\n",
       "        "
      ],
      "text/plain": [
       "<IPython.lib.display.IFrame at 0x1124cb358>"
      ]
     },
     "execution_count": 41,
     "metadata": {},
     "output_type": "execute_result"
    }
   ],
   "source": [
    "IFrame(\"https://www.geogebra.org/classic/mfzdes3n\", 800, 600)"
   ]
  },
  {
   "cell_type": "markdown",
   "metadata": {},
   "source": [
    "## 2.2.6. Dot product or inner product\n",
    "The **dot product of inner product** of two vectors $x = (x_1, x_2)$ and $y = (y_1, y_2)$ is denoted by $x \\cdot y$ and it is equal to the scalar $x_1\\cdot y_1+ x_2 \\cdot y_2$.\n",
    "\n",
    "This can be generalised to the vectors $x = (x_1, x_2, \\cdots, x_n) \\in \\mathbb{R}^n$ and $y = (y_1, y_2, \\cdots, y_n) \\in \\mathbb{R}^n$ as ............ .\n",
    "\n",
    "Observe that as a consequence of the definition distributivity over addition holds, i.e. $x \\cdot(y + z) = x \\cdot y + x \\cdot z$.\n",
    "\n",
    "Furthermore $\\lambda x \\cdot y = \\lambda x\\cdot y = x \\cdot \\lambda y$.\n",
    "\n",
    "The last two properties together are called also **bilinearity** of the scalar product.\n",
    "\n",
    "Observe also that the scalar product is **commutative**, i.e. $x \\cdot y = y \\cdot x$.\n",
    "\n",
    "What's the relation between the length of a vector and the dot product?"
   ]
  },
  {
   "cell_type": "markdown",
   "metadata": {},
   "source": [
    "## 2.2.7. The dot product and the cosine rule\n",
    "Derive $x \\cdot y = ||x||\\ ||y||\\ \\cos(x,y)$ writing the cosine rule in the triangle with two sides given by the vectors $x, y$."
   ]
  },
  {
   "cell_type": "markdown",
   "metadata": {},
   "source": [
    "## 2.2.8. Scalar and vector projection\n",
    "Ex. 1. Change the canonical basis to another orthogonal basis by scalar projection.\n",
    "\n",
    "Ex. 2. In PCA we can project basically on the first eigenvector and on its orthogonal complement."
   ]
  },
  {
   "cell_type": "markdown",
   "metadata": {},
   "source": [
    "## 2.2.9. Basis of a vectorspace, linear independence of vectors"
   ]
  },
  {
   "cell_type": "markdown",
   "metadata": {},
   "source": [
    "## 2.3. Matrices\n",
    "\n",
    "Matrices.\n",
    "\n",
    "## 2.3.1. Matrix multiplication of a vector \n",
    "Matrix multiplication of a vector  as a linear transformation that trnasforms basis vectors of the original space to basis vectors of the image space."
   ]
  },
  {
   "cell_type": "markdown",
   "metadata": {},
   "source": [
    "### 2.3.2. Gauss elimination to solve a system of linear equations"
   ]
  },
  {
   "cell_type": "markdown",
   "metadata": {},
   "source": [
    "### 2.3.3. Inverse of a matrix by Gaussian elimination"
   ]
  },
  {
   "cell_type": "markdown",
   "metadata": {},
   "source": [
    "### 2.3.4. The determinant of a $2\\times 2$ matrix\n",
    "as the volume of the paralellogram spanned by the colmn vectors of the original matrix.\n",
    "\n",
    "What means if the determinant is 0?\n",
    "\n",
    "Ex. for a 3x3 system with a multiple solution."
   ]
  },
  {
   "cell_type": "markdown",
   "metadata": {},
   "source": [
    "### 2.3.5. Rotation in a different coordinate system than the canonical one"
   ]
  },
  {
   "cell_type": "markdown",
   "metadata": {},
   "source": [
    "### 2.3.6. Orthogonal matrices"
   ]
  },
  {
   "cell_type": "markdown",
   "metadata": {},
   "source": [
    "### 2.3.7. Gram-Schmidt orthogonalisation"
   ]
  },
  {
   "cell_type": "markdown",
   "metadata": {},
   "source": [
    "### 2.3.8 Reflection in $\\mathbb{R}^3$ w.r.t. a plane"
   ]
  },
  {
   "cell_type": "markdown",
   "metadata": {},
   "source": [
    "### 2.3.9. Eigenvectors, eigenvalues\n",
    "\"eigen\" = \"characteristic\"\n",
    "Eigenvectors are the vectors, which are just scaled by a factor when appliying the matrix operation on them.\n",
    "Eigenvalues are the solutions of characteristic polynomial.\n",
    "\n",
    "Rotation in $\\mathbb{R}^2$: no eigenvector\n",
    "\n",
    "Rotation in $\\mathbb{R}^3$: the only eigenvector is the axis of rotation\n",
    "\n",
    "Scaling along one axis: 2 eigenvectors\n",
    "\n",
    "Identity matrix: Every vector is an eigenvector\n",
    "\n",
    "## 2.3.10. Diagonalisation by changing the basis to the eigenvectors\n",
    "Application to calculating the $n$th power of a matrix. We can be interested in this question when $T$ is s transition matrix encorporating the change that happens in one time unit. Then $T^n$ shows the change happening in $n$ time units. If we can find a basis, where the matrix is diagonal, then calculate its $n$th power and afterwards transform it back, it is easier than calculating the $n$th power of the original matrix."
   ]
  },
  {
   "cell_type": "code",
   "execution_count": 56,
   "metadata": {},
   "outputs": [
    {
     "name": "stdout",
     "output_type": "stream",
     "text": [
      "1. Question: What day of the week is it today?\n"
     ]
    },
    {
     "data": {
      "application/vnd.jupyter.widget-view+json": {
       "model_id": "d20ecd1d42be4d1391a02c4694fddaff",
       "version_major": 2,
       "version_minor": 0
      },
      "text/plain": [
       "VBox(children=(Output(layout=Layout(width='auto')), RadioButtons(options=(('a. Monday', 0), ('b. Tuesday', 1),…"
      ]
     },
     "metadata": {},
     "output_type": "display_data"
    }
   ],
   "source": [
    "test = create_multipleChoice_widget(\"1. Question: What day of the week is it today?\", ['a. Monday', 'b. Tuesday', 'c. Wednesday'],'b. Tuesday','[Hint]:')\n",
    "test"
   ]
  },
  {
   "cell_type": "markdown",
   "metadata": {},
   "source": [
    "### 2.3.8. Eigenvectors, eigenvalues\n",
    "\"eigen\" = \"characteristic\"\n",
    "Eigenvectors are the vectors, which are just scaled by a factor when appliying the matrix operation on them.\n",
    "Eigenvalues are the solutions of characteristic polynomial.\n",
    "\n",
    "Please associate the following transformations in $\\mathbb{R}^2$ to the number of eigenvectors that they have:\n",
    "1. Rotation in $\\mathbb{R}^2$\n",
    "2. Rotation in $\\mathbb{R}^3$\n",
    "3. Scaling along one axis\n",
    "4. Scaling along 2 axis\n",
    "5. Multiplication by the identity matrix\n",
    "\n",
    "Number of eigenvectors:<br>\n",
    "a. every vector is an eigenvector<br>\n",
    "b. the transformation has exactly 2 eigenvectors<br>\n",
    "c. the transformation has exactly one eigenvectors<br>\n",
    "d. the transformation can have none or two eigenvectors\n",
    "\n",
    "\n",
    "\n",
    "### 2.3.9. Diagonalisation by changing the basis to the eigenvectors\n",
    "Application to calculating the $n$th power of a matrix. We can be interested in this question when $T$ is s transition matrix encorporating the change that happens in one time unit. Then $T$^n shows the change happening in $n$ time units. If we can find a basis, where the matrix is diagonal, then calculate its $n$th power and afterwards transform it back, it is easier than calculating the $n$th power of the original matrix."
   ]
  },
  {
   "cell_type": "markdown",
   "metadata": {},
   "source": [
    "## 3. Homework\n",
    "Read through the material of the first day and summarise the relevant formulas, notions on a cheat sheet."
   ]
  }
 ],
 "metadata": {
  "kernelspec": {
   "display_name": "Python 3",
   "language": "python",
   "name": "python3"
  },
  "language_info": {
   "codemirror_mode": {
    "name": "ipython",
    "version": 3
   },
   "file_extension": ".py",
   "mimetype": "text/x-python",
   "name": "python",
   "nbconvert_exporter": "python",
   "pygments_lexer": "ipython3",
   "version": "3.6.8"
  }
 },
 "nbformat": 4,
 "nbformat_minor": 2
}
